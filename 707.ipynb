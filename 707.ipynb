{
 "cells": [
  {
   "cell_type": "markdown",
   "id": "aaf7d651-959c-4a65-8b60-e87f1abe8105",
   "metadata": {},
   "source": [
    "## PART A: ETL Operations"
   ]
  },
  {
   "cell_type": "code",
   "execution_count": 1,
   "id": "5fbfb19e-6d20-4943-96db-20fe916ecfca",
   "metadata": {},
   "outputs": [],
   "source": [
    "# Loading the libraries\n",
    "import pandas as pd"
   ]
  },
  {
   "cell_type": "code",
   "execution_count": 2,
   "id": "20770a16-0859-4afa-9691-3f3eaaec46a8",
   "metadata": {},
   "outputs": [
    {
     "name": "stdout",
     "output_type": "stream",
     "text": [
      "GDP Dataset - First 5 Rows:\n",
      "   year  rank            country    state           gdp  gdp_percent\n",
      "0  1960     1  the United States  America  543300000000     0.468483\n",
      "1  1960     2     United Kingdom   Europe   73233967692     0.063149\n",
      "2  1960     3             France   Europe   62225478000     0.053656\n",
      "3  1960     4              China     Asia   59716467625     0.051493\n",
      "4  1960     5              Japan     Asia   44307342950     0.038206\n",
      "\n",
      "COVID Dataset - First 5 Rows:\n",
      "  Country Name  Total Infected  Total Deaths  Total Recovered  Death %  \\\n",
      "0          USA        47916190        783565       37918301.0      1.6   \n",
      "1        India        34447536        463655       33849785.0      1.3   \n",
      "2       Brazil        21957967        611318       21151342.0      2.8   \n",
      "3           UK         9561099        142898        7825200.0      1.5   \n",
      "4       Russia         9109094        256597        7812557.0      2.8   \n",
      "\n",
      "   Recovered %  \n",
      "0         79.1  \n",
      "1         98.3  \n",
      "2         96.3  \n",
      "3         81.8  \n",
      "4         85.8  \n"
     ]
    }
   ],
   "source": [
    "# Load the datasets\n",
    "gdp_df = pd.read_csv('gdp_1960_2020.csv')\n",
    "covid_df = pd.read_csv('Country-wise-COVID-cases.csv')\n",
    "\n",
    "# Display the first few rows of each dataset\n",
    "print(\"GDP Dataset - First 5 Rows:\")\n",
    "print(gdp_df.head())\n",
    "\n",
    "print(\"\\nCOVID Dataset - First 5 Rows:\")\n",
    "print(covid_df.head())"
   ]
  },
  {
   "cell_type": "code",
   "execution_count": 3,
   "id": "841273d1-57b7-4adb-a71d-1d0ae0b17fc2",
   "metadata": {},
   "outputs": [
    {
     "name": "stdout",
     "output_type": "stream",
     "text": [
      "GDP DataFrame Columns: Index(['year', 'rank', 'country', 'state', 'gdp', 'gdp_percent'], dtype='object')\n",
      "COVID DataFrame Columns: Index(['Country Name', 'Total Infected', 'Total Deaths', 'Total Recovered',\n",
      "       'Death %', 'Recovered %'],\n",
      "      dtype='object')\n"
     ]
    }
   ],
   "source": [
    "# Print the column names to diagnose the issue\n",
    "print(\"GDP DataFrame Columns:\", gdp_df.columns)\n",
    "print(\"COVID DataFrame Columns:\", covid_df.columns)\n"
   ]
  },
  {
   "cell_type": "code",
   "execution_count": 4,
   "id": "9441a207-42fc-461f-b7db-284123ed24e2",
   "metadata": {},
   "outputs": [],
   "source": [
    "# Rename columns for consistency\n",
    "gdp_df.rename(columns={'country': 'Country'}, inplace=True)\n",
    "covid_df.rename(columns={'Country Name': 'Country'}, inplace=True)"
   ]
  },
  {
   "cell_type": "code",
   "execution_count": 5,
   "id": "b270ce95-0f17-468b-939b-b2d979740d7a",
   "metadata": {},
   "outputs": [
    {
     "data": {
      "text/plain": [
       "year           0\n",
       "rank           0\n",
       "Country        0\n",
       "state          0\n",
       "gdp            0\n",
       "gdp_percent    0\n",
       "dtype: int64"
      ]
     },
     "execution_count": 5,
     "metadata": {},
     "output_type": "execute_result"
    }
   ],
   "source": [
    "gdp_df.isnull().sum()"
   ]
  },
  {
   "cell_type": "markdown",
   "id": "e23b8f16-aa60-4159-8dea-20ec4ec630f0",
   "metadata": {},
   "source": [
    "covid_df.isnull().sum()"
   ]
  },
  {
   "cell_type": "code",
   "execution_count": 7,
   "id": "9de52d64-3af3-45a6-b487-207b23d6cbfe",
   "metadata": {},
   "outputs": [
    {
     "name": "stdout",
     "output_type": "stream",
     "text": [
      "\n",
      "Merged Dataset - First 5 Rows:\n",
      "  Country  Total Infected  Total Deaths  Total Recovered  Death %  \\\n",
      "0   India        34447536        463655       33849785.0      1.3   \n",
      "1   India        34447536        463655       33849785.0      1.3   \n",
      "2   India        34447536        463655       33849785.0      1.3   \n",
      "3   India        34447536        463655       33849785.0      1.3   \n",
      "4   India        34447536        463655       33849785.0      1.3   \n",
      "\n",
      "   Recovered %          gdp  \n",
      "0         98.3  37029883875  \n",
      "1         98.3  39232435784  \n",
      "2         98.3  42161481858  \n",
      "3         98.3  48421923458  \n",
      "4         98.3  56480289940  \n"
     ]
    }
   ],
   "source": [
    "# Merge the datasets based on the 'Country' column\n",
    "merged_df = pd.merge(covid_df, gdp_df[['Country', 'gdp']], on='Country', how='inner')\n",
    "\n",
    "# Display the merged DataFrame\n",
    "print(\"\\nMerged Dataset - First 5 Rows:\")\n",
    "print(merged_df.head())"
   ]
  },
  {
   "cell_type": "markdown",
   "id": "05e04544-0825-48b6-9a02-2a81b334d297",
   "metadata": {},
   "source": [
    "## PART B: Big Data Analysis and Application of Engineering Techniques"
   ]
  },
  {
   "cell_type": "code",
   "execution_count": 8,
   "id": "7f56405b-15f1-4b2b-884c-6042cbb61409",
   "metadata": {},
   "outputs": [
    {
     "name": "stdout",
     "output_type": "stream",
     "text": [
      "Requirement already satisfied: pyspark in c:\\users\\ankus\\anaconda3\\lib\\site-packages (3.5.2)\n",
      "Requirement already satisfied: py4j==0.10.9.7 in c:\\users\\ankus\\anaconda3\\lib\\site-packages (from pyspark) (0.10.9.7)\n",
      "Note: you may need to restart the kernel to use updated packages.\n"
     ]
    }
   ],
   "source": [
    "pip install pyspark"
   ]
  },
  {
   "cell_type": "code",
   "execution_count": 9,
   "id": "c6b70e4e-6ede-446d-b4f4-07dcb1c8cdbc",
   "metadata": {},
   "outputs": [],
   "source": [
    "# Import necessary PySpark libraries\n",
    "from pyspark.sql import SparkSession\n",
    "from pyspark.sql.functions import col, when\n",
    "from pyspark.sql.types import StringType"
   ]
  },
  {
   "cell_type": "code",
   "execution_count": null,
   "id": "9302a3d7-0bbe-4d2d-8f71-e211828537fc",
   "metadata": {},
   "outputs": [],
   "source": []
  }
 ],
 "metadata": {
  "kernelspec": {
   "display_name": "Python 3 (ipykernel)",
   "language": "python",
   "name": "python3"
  },
  "language_info": {
   "codemirror_mode": {
    "name": "ipython",
    "version": 3
   },
   "file_extension": ".py",
   "mimetype": "text/x-python",
   "name": "python",
   "nbconvert_exporter": "python",
   "pygments_lexer": "ipython3",
   "version": "3.11.7"
  }
 },
 "nbformat": 4,
 "nbformat_minor": 5
}
